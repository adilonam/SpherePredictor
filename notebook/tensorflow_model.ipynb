{
 "cells": [
  {
   "cell_type": "code",
   "execution_count": 1,
   "metadata": {},
   "outputs": [
    {
     "name": "stderr",
     "output_type": "stream",
     "text": [
      "2024-04-29 16:11:11.538033: I external/local_tsl/tsl/cuda/cudart_stub.cc:32] Could not find cuda drivers on your machine, GPU will not be used.\n",
      "2024-04-29 16:11:11.541881: I external/local_tsl/tsl/cuda/cudart_stub.cc:32] Could not find cuda drivers on your machine, GPU will not be used.\n",
      "2024-04-29 16:11:11.587949: I tensorflow/core/platform/cpu_feature_guard.cc:210] This TensorFlow binary is optimized to use available CPU instructions in performance-critical operations.\n",
      "To enable the following instructions: AVX2 FMA, in other operations, rebuild TensorFlow with the appropriate compiler flags.\n",
      "2024-04-29 16:11:12.477420: W tensorflow/compiler/tf2tensorrt/utils/py_utils.cc:38] TF-TRT Warning: Could not find TensorRT\n"
     ]
    },
    {
     "name": "stdout",
     "output_type": "stream",
     "text": [
      "<class 'pandas.core.frame.DataFrame'>\n",
      "RangeIndex: 46376 entries, 0 to 46375\n",
      "Data columns (total 8 columns):\n",
      " #   Column           Non-Null Count  Dtype  \n",
      "---  ------           --------------  -----  \n",
      " 0   NAME             46376 non-null  object \n",
      " 1   name_code        46376 non-null  int64  \n",
      " 2   date             46376 non-null  int64  \n",
      " 3   color_and_value  46376 non-null  object \n",
      " 4   value            46376 non-null  float64\n",
      " 5   color            46376 non-null  object \n",
      " 6   color_code       46376 non-null  int64  \n",
      " 7   next_color_code  46240 non-null  float64\n",
      "dtypes: float64(2), int64(3), object(3)\n",
      "memory usage: 2.8+ MB\n",
      "None\n"
     ]
    },
    {
     "data": {
      "text/html": [
       "<div>\n",
       "<style scoped>\n",
       "    .dataframe tbody tr th:only-of-type {\n",
       "        vertical-align: middle;\n",
       "    }\n",
       "\n",
       "    .dataframe tbody tr th {\n",
       "        vertical-align: top;\n",
       "    }\n",
       "\n",
       "    .dataframe thead th {\n",
       "        text-align: right;\n",
       "    }\n",
       "</style>\n",
       "<table border=\"1\" class=\"dataframe\">\n",
       "  <thead>\n",
       "    <tr style=\"text-align: right;\">\n",
       "      <th></th>\n",
       "      <th>NAME</th>\n",
       "      <th>name_code</th>\n",
       "      <th>date</th>\n",
       "      <th>color_and_value</th>\n",
       "      <th>value</th>\n",
       "      <th>color</th>\n",
       "      <th>color_code</th>\n",
       "      <th>next_color_code</th>\n",
       "    </tr>\n",
       "  </thead>\n",
       "  <tbody>\n",
       "    <tr>\n",
       "      <th>0</th>\n",
       "      <td>GJ1</td>\n",
       "      <td>0</td>\n",
       "      <td>1</td>\n",
       "      <td>-16.155 | 00FFFF</td>\n",
       "      <td>-16.15500</td>\n",
       "      <td>00FFFF</td>\n",
       "      <td>0</td>\n",
       "      <td>3.0</td>\n",
       "    </tr>\n",
       "    <tr>\n",
       "      <th>1</th>\n",
       "      <td>GJ2</td>\n",
       "      <td>1</td>\n",
       "      <td>1</td>\n",
       "      <td>-10.131 | 00FFFF</td>\n",
       "      <td>-10.13100</td>\n",
       "      <td>00FFFF</td>\n",
       "      <td>0</td>\n",
       "      <td>2.0</td>\n",
       "    </tr>\n",
       "    <tr>\n",
       "      <th>2</th>\n",
       "      <td>GJ3</td>\n",
       "      <td>2</td>\n",
       "      <td>1</td>\n",
       "      <td>6.719 | 00FF00</td>\n",
       "      <td>6.71900</td>\n",
       "      <td>00FF00</td>\n",
       "      <td>1</td>\n",
       "      <td>3.0</td>\n",
       "    </tr>\n",
       "    <tr>\n",
       "      <th>3</th>\n",
       "      <td>GJ4</td>\n",
       "      <td>3</td>\n",
       "      <td>1</td>\n",
       "      <td>8.2 | 00FFFF</td>\n",
       "      <td>8.20000</td>\n",
       "      <td>00FFFF</td>\n",
       "      <td>0</td>\n",
       "      <td>3.0</td>\n",
       "    </tr>\n",
       "    <tr>\n",
       "      <th>4</th>\n",
       "      <td>GJ5</td>\n",
       "      <td>4</td>\n",
       "      <td>1</td>\n",
       "      <td>-7.444 | 00FF00</td>\n",
       "      <td>-7.44400</td>\n",
       "      <td>00FF00</td>\n",
       "      <td>1</td>\n",
       "      <td>1.0</td>\n",
       "    </tr>\n",
       "    <tr>\n",
       "      <th>...</th>\n",
       "      <td>...</td>\n",
       "      <td>...</td>\n",
       "      <td>...</td>\n",
       "      <td>...</td>\n",
       "      <td>...</td>\n",
       "      <td>...</td>\n",
       "      <td>...</td>\n",
       "      <td>...</td>\n",
       "    </tr>\n",
       "    <tr>\n",
       "      <th>46371</th>\n",
       "      <td>GJ132</td>\n",
       "      <td>131</td>\n",
       "      <td>341</td>\n",
       "      <td>19.17218 | A9D08E</td>\n",
       "      <td>19.17218</td>\n",
       "      <td>A9D08E</td>\n",
       "      <td>6</td>\n",
       "      <td>NaN</td>\n",
       "    </tr>\n",
       "    <tr>\n",
       "      <th>46372</th>\n",
       "      <td>GJ133</td>\n",
       "      <td>132</td>\n",
       "      <td>341</td>\n",
       "      <td>-27.1069 | FFFF00</td>\n",
       "      <td>-27.10690</td>\n",
       "      <td>FFFF00</td>\n",
       "      <td>3</td>\n",
       "      <td>NaN</td>\n",
       "    </tr>\n",
       "    <tr>\n",
       "      <th>46373</th>\n",
       "      <td>GJ134</td>\n",
       "      <td>133</td>\n",
       "      <td>341</td>\n",
       "      <td>14.05361 | FFC000</td>\n",
       "      <td>14.05361</td>\n",
       "      <td>FFC000</td>\n",
       "      <td>8</td>\n",
       "      <td>NaN</td>\n",
       "    </tr>\n",
       "    <tr>\n",
       "      <th>46374</th>\n",
       "      <td>GJ135</td>\n",
       "      <td>134</td>\n",
       "      <td>341</td>\n",
       "      <td>-5.21327 | FFFF00</td>\n",
       "      <td>-5.21327</td>\n",
       "      <td>FFFF00</td>\n",
       "      <td>3</td>\n",
       "      <td>NaN</td>\n",
       "    </tr>\n",
       "    <tr>\n",
       "      <th>46375</th>\n",
       "      <td>GJ136</td>\n",
       "      <td>135</td>\n",
       "      <td>341</td>\n",
       "      <td>51.27713 | A9D08E</td>\n",
       "      <td>51.27713</td>\n",
       "      <td>A9D08E</td>\n",
       "      <td>6</td>\n",
       "      <td>NaN</td>\n",
       "    </tr>\n",
       "  </tbody>\n",
       "</table>\n",
       "<p>46376 rows × 8 columns</p>\n",
       "</div>"
      ],
      "text/plain": [
       "        NAME  name_code  date    color_and_value     value   color  \\\n",
       "0        GJ1          0     1   -16.155 | 00FFFF -16.15500  00FFFF   \n",
       "1        GJ2          1     1   -10.131 | 00FFFF -10.13100  00FFFF   \n",
       "2        GJ3          2     1     6.719 | 00FF00   6.71900  00FF00   \n",
       "3        GJ4          3     1       8.2 | 00FFFF   8.20000  00FFFF   \n",
       "4        GJ5          4     1    -7.444 | 00FF00  -7.44400  00FF00   \n",
       "...      ...        ...   ...                ...       ...     ...   \n",
       "46371  GJ132        131   341  19.17218 | A9D08E  19.17218  A9D08E   \n",
       "46372  GJ133        132   341  -27.1069 | FFFF00 -27.10690  FFFF00   \n",
       "46373  GJ134        133   341  14.05361 | FFC000  14.05361  FFC000   \n",
       "46374  GJ135        134   341  -5.21327 | FFFF00  -5.21327  FFFF00   \n",
       "46375  GJ136        135   341  51.27713 | A9D08E  51.27713  A9D08E   \n",
       "\n",
       "       color_code  next_color_code  \n",
       "0               0              3.0  \n",
       "1               0              2.0  \n",
       "2               1              3.0  \n",
       "3               0              3.0  \n",
       "4               1              1.0  \n",
       "...           ...              ...  \n",
       "46371           6              NaN  \n",
       "46372           3              NaN  \n",
       "46373           8              NaN  \n",
       "46374           3              NaN  \n",
       "46375           6              NaN  \n",
       "\n",
       "[46376 rows x 8 columns]"
      ]
     },
     "execution_count": 1,
     "metadata": {},
     "output_type": "execute_result"
    }
   ],
   "source": [
    "# Import the Pandas library\n",
    "\n",
    "import openpyxl\n",
    "import io\n",
    "import tempfile\n",
    "import pandas as pd\n",
    "import numpy as np\n",
    "import sys\n",
    "\n",
    "sys.path.append('../')\n",
    "\n",
    "from models.tensorflow_model import TensorFlowModel\n",
    "\n",
    "model = TensorFlowModel()\n",
    "path = \"../.test_data/more_data.xlsx\"\n",
    "\n",
    "coded_df = model.process_excel(path)\n",
    "\n",
    "\n",
    "print(coded_df.info())\n",
    "coded_df"
   ]
  },
  {
   "cell_type": "code",
   "execution_count": 2,
   "metadata": {},
   "outputs": [
    {
     "data": {
      "text/plain": [
       "{0: '00FFFF',\n",
       " 1: '00FF00',\n",
       " 2: 'FF9900',\n",
       " 3: 'FFFF00',\n",
       " 4: 'D5A6BD',\n",
       " 5: 'FF0000',\n",
       " 6: 'A9D08E',\n",
       " 7: '9BC2E6',\n",
       " 8: 'FFC000',\n",
       " 9: '8EA9DB'}"
      ]
     },
     "execution_count": 2,
     "metadata": {},
     "output_type": "execute_result"
    }
   ],
   "source": [
    "model.color_mapping\n",
    "\n",
    "# D5A6BD purple    ff9900 orange"
   ]
  },
  {
   "cell_type": "code",
   "execution_count": 3,
   "metadata": {},
   "outputs": [
    {
     "data": {
      "text/html": [
       "<div>\n",
       "<style scoped>\n",
       "    .dataframe tbody tr th:only-of-type {\n",
       "        vertical-align: middle;\n",
       "    }\n",
       "\n",
       "    .dataframe tbody tr th {\n",
       "        vertical-align: top;\n",
       "    }\n",
       "\n",
       "    .dataframe thead th {\n",
       "        text-align: right;\n",
       "    }\n",
       "</style>\n",
       "<table border=\"1\" class=\"dataframe\">\n",
       "  <thead>\n",
       "    <tr style=\"text-align: right;\">\n",
       "      <th></th>\n",
       "      <th>NAME</th>\n",
       "      <th>2024-04-24 00:00:00.1</th>\n",
       "    </tr>\n",
       "  </thead>\n",
       "  <tbody>\n",
       "    <tr>\n",
       "      <th>0</th>\n",
       "      <td>GJ1</td>\n",
       "      <td>2.166186 | FFFF00</td>\n",
       "    </tr>\n",
       "    <tr>\n",
       "      <th>1</th>\n",
       "      <td>GJ2</td>\n",
       "      <td>3.942408 | FFFF00</td>\n",
       "    </tr>\n",
       "    <tr>\n",
       "      <th>2</th>\n",
       "      <td>GJ3</td>\n",
       "      <td>5.464429 | A9D08E</td>\n",
       "    </tr>\n",
       "    <tr>\n",
       "      <th>3</th>\n",
       "      <td>GJ4</td>\n",
       "      <td>1.083493 | FFFF00</td>\n",
       "    </tr>\n",
       "    <tr>\n",
       "      <th>4</th>\n",
       "      <td>GJ5</td>\n",
       "      <td>14.56136 | A9D08E</td>\n",
       "    </tr>\n",
       "    <tr>\n",
       "      <th>...</th>\n",
       "      <td>...</td>\n",
       "      <td>...</td>\n",
       "    </tr>\n",
       "    <tr>\n",
       "      <th>131</th>\n",
       "      <td>GJ132</td>\n",
       "      <td>19.17218 | A9D08E</td>\n",
       "    </tr>\n",
       "    <tr>\n",
       "      <th>132</th>\n",
       "      <td>GJ133</td>\n",
       "      <td>-27.1069 | FFFF00</td>\n",
       "    </tr>\n",
       "    <tr>\n",
       "      <th>133</th>\n",
       "      <td>GJ134</td>\n",
       "      <td>14.05361 | FFC000</td>\n",
       "    </tr>\n",
       "    <tr>\n",
       "      <th>134</th>\n",
       "      <td>GJ135</td>\n",
       "      <td>-5.21327 | FFFF00</td>\n",
       "    </tr>\n",
       "    <tr>\n",
       "      <th>135</th>\n",
       "      <td>GJ136</td>\n",
       "      <td>51.27713 | A9D08E</td>\n",
       "    </tr>\n",
       "  </tbody>\n",
       "</table>\n",
       "<p>136 rows × 2 columns</p>\n",
       "</div>"
      ],
      "text/plain": [
       "      NAME 2024-04-24 00:00:00.1\n",
       "0      GJ1     2.166186 | FFFF00\n",
       "1      GJ2     3.942408 | FFFF00\n",
       "2      GJ3     5.464429 | A9D08E\n",
       "3      GJ4     1.083493 | FFFF00\n",
       "4      GJ5     14.56136 | A9D08E\n",
       "..     ...                   ...\n",
       "131  GJ132     19.17218 | A9D08E\n",
       "132  GJ133     -27.1069 | FFFF00\n",
       "133  GJ134     14.05361 | FFC000\n",
       "134  GJ135     -5.21327 | FFFF00\n",
       "135  GJ136     51.27713 | A9D08E\n",
       "\n",
       "[136 rows x 2 columns]"
      ]
     },
     "execution_count": 3,
     "metadata": {},
     "output_type": "execute_result"
    }
   ],
   "source": [
    "model.last_df"
   ]
  },
  {
   "cell_type": "code",
   "execution_count": 4,
   "metadata": {},
   "outputs": [
    {
     "data": {
      "text/plain": [
       "((36992, 4), (36992, 10))"
      ]
     },
     "execution_count": 4,
     "metadata": {},
     "output_type": "execute_result"
    }
   ],
   "source": [
    "from sklearn.linear_model import LinearRegression\n",
    "from sklearn.model_selection import train_test_split\n",
    "\n",
    "\n",
    "\n",
    "# Splitting the dataset into the Training set and Test set\n",
    "X_train, X_test, y_train, y_test = model.train_test_split(coded_df)\n",
    "\n",
    "X_train.shape , y_train.shape\n"
   ]
  },
  {
   "cell_type": "code",
   "execution_count": 5,
   "metadata": {},
   "outputs": [
    {
     "name": "stderr",
     "output_type": "stream",
     "text": [
      "/home/adil/repo/predict_sphere/venv/lib/python3.11/site-packages/keras/src/layers/rnn/rnn.py:204: UserWarning: Do not pass an `input_shape`/`input_dim` argument to a layer. When using Sequential models, prefer using an `Input(shape)` object as the first layer in the model instead.\n",
      "  super().__init__(**kwargs)\n"
     ]
    },
    {
     "name": "stdout",
     "output_type": "stream",
     "text": [
      "Epoch 1/10\n",
      "\u001b[1m1156/1156\u001b[0m \u001b[32m━━━━━━━━━━━━━━━━━━━━\u001b[0m\u001b[37m\u001b[0m \u001b[1m15s\u001b[0m 10ms/step - accuracy: 0.1939 - loss: 2.4907\n",
      "Epoch 2/10\n",
      "\u001b[1m1156/1156\u001b[0m \u001b[32m━━━━━━━━━━━━━━━━━━━━\u001b[0m\u001b[37m\u001b[0m \u001b[1m11s\u001b[0m 9ms/step - accuracy: 0.2875 - loss: 1.6167\n",
      "Epoch 3/10\n",
      "\u001b[1m1156/1156\u001b[0m \u001b[32m━━━━━━━━━━━━━━━━━━━━\u001b[0m\u001b[37m\u001b[0m \u001b[1m12s\u001b[0m 10ms/step - accuracy: 0.2973 - loss: 1.5677\n",
      "Epoch 4/10\n",
      "\u001b[1m1156/1156\u001b[0m \u001b[32m━━━━━━━━━━━━━━━━━━━━\u001b[0m\u001b[37m\u001b[0m \u001b[1m11s\u001b[0m 9ms/step - accuracy: 0.3010 - loss: 1.5573\n",
      "Epoch 5/10\n",
      "\u001b[1m1156/1156\u001b[0m \u001b[32m━━━━━━━━━━━━━━━━━━━━\u001b[0m\u001b[37m\u001b[0m \u001b[1m12s\u001b[0m 10ms/step - accuracy: 0.2988 - loss: 1.5509\n",
      "Epoch 6/10\n",
      "\u001b[1m1156/1156\u001b[0m \u001b[32m━━━━━━━━━━━━━━━━━━━━\u001b[0m\u001b[37m\u001b[0m \u001b[1m11s\u001b[0m 10ms/step - accuracy: 0.2993 - loss: 1.5473\n",
      "Epoch 7/10\n",
      "\u001b[1m1156/1156\u001b[0m \u001b[32m━━━━━━━━━━━━━━━━━━━━\u001b[0m\u001b[37m\u001b[0m \u001b[1m12s\u001b[0m 10ms/step - accuracy: 0.2956 - loss: 1.5509\n",
      "Epoch 8/10\n",
      "\u001b[1m1156/1156\u001b[0m \u001b[32m━━━━━━━━━━━━━━━━━━━━\u001b[0m\u001b[37m\u001b[0m \u001b[1m11s\u001b[0m 10ms/step - accuracy: 0.2987 - loss: 1.5444\n",
      "Epoch 9/10\n",
      "\u001b[1m1156/1156\u001b[0m \u001b[32m━━━━━━━━━━━━━━━━━━━━\u001b[0m\u001b[37m\u001b[0m \u001b[1m12s\u001b[0m 10ms/step - accuracy: 0.3038 - loss: 1.5408\n",
      "Epoch 10/10\n",
      "\u001b[1m1156/1156\u001b[0m \u001b[32m━━━━━━━━━━━━━━━━━━━━\u001b[0m\u001b[37m\u001b[0m \u001b[1m12s\u001b[0m 10ms/step - accuracy: 0.3022 - loss: 1.5394\n",
      "\u001b[1m289/289\u001b[0m \u001b[32m━━━━━━━━━━━━━━━━━━━━\u001b[0m\u001b[37m\u001b[0m \u001b[1m1s\u001b[0m 4ms/step\n",
      "mse : 4.775951557093426\n",
      "accuracy: 0.29736159169550175\n",
      "prefered accuracy: 0.0\n"
     ]
    }
   ],
   "source": [
    "\n",
    "model.fit(X_train, X_test, y_train, y_test)\n",
    "\n",
    "print(f'mse : {model.mse}' )\n",
    "\n",
    "print(f'accuracy: {model.accuracy}' )\n",
    "print(f'prefered accuracy: {model.preferred_accuracy}' )"
   ]
  },
  {
   "cell_type": "code",
   "execution_count": null,
   "metadata": {},
   "outputs": [],
   "source": []
  },
  {
   "cell_type": "code",
   "execution_count": 6,
   "metadata": {},
   "outputs": [
    {
     "name": "stdout",
     "output_type": "stream",
     "text": [
      "mse : 4.775951557093426\n",
      "accuracy: 0.29736159169550175\n"
     ]
    }
   ],
   "source": [
    "print(f'mse : {model.mse}' )\n",
    "\n",
    "print(f'accuracy: {model.accuracy}' )\n",
    "# print(f'prefered accuracy: {model.preferred_accuracy}' )"
   ]
  },
  {
   "cell_type": "code",
   "execution_count": 7,
   "metadata": {},
   "outputs": [
    {
     "name": "stdout",
     "output_type": "stream",
     "text": [
      "\u001b[1m5/5\u001b[0m \u001b[32m━━━━━━━━━━━━━━━━━━━━\u001b[0m\u001b[37m\u001b[0m \u001b[1m0s\u001b[0m 82ms/step\n"
     ]
    }
   ],
   "source": [
    "\n",
    "df = model.predict()\n",
    "\n"
   ]
  },
  {
   "cell_type": "code",
   "execution_count": 8,
   "metadata": {},
   "outputs": [
    {
     "data": {
      "text/html": [
       "<div>\n",
       "<style scoped>\n",
       "    .dataframe tbody tr th:only-of-type {\n",
       "        vertical-align: middle;\n",
       "    }\n",
       "\n",
       "    .dataframe tbody tr th {\n",
       "        vertical-align: top;\n",
       "    }\n",
       "\n",
       "    .dataframe thead th {\n",
       "        text-align: right;\n",
       "    }\n",
       "</style>\n",
       "<table border=\"1\" class=\"dataframe\">\n",
       "  <thead>\n",
       "    <tr style=\"text-align: right;\">\n",
       "      <th></th>\n",
       "      <th>NAME</th>\n",
       "      <th>2024-04-24 00:00:00.1</th>\n",
       "      <th>next_color_code</th>\n",
       "      <th>next_color</th>\n",
       "    </tr>\n",
       "  </thead>\n",
       "  <tbody>\n",
       "  </tbody>\n",
       "</table>\n",
       "</div>"
      ],
      "text/plain": [
       "Empty DataFrame\n",
       "Columns: [NAME, 2024-04-24 00:00:00.1, next_color_code, next_color]\n",
       "Index: []"
      ]
     },
     "execution_count": 8,
     "metadata": {},
     "output_type": "execute_result"
    }
   ],
   "source": [
    "df[ df['next_color_code'] == 0]"
   ]
  }
 ],
 "metadata": {
  "kernelspec": {
   "display_name": "venv",
   "language": "python",
   "name": "python3"
  },
  "language_info": {
   "codemirror_mode": {
    "name": "ipython",
    "version": 3
   },
   "file_extension": ".py",
   "mimetype": "text/x-python",
   "name": "python",
   "nbconvert_exporter": "python",
   "pygments_lexer": "ipython3",
   "version": "3.11.8"
  }
 },
 "nbformat": 4,
 "nbformat_minor": 2
}

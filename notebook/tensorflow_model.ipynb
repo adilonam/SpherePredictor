{
 "cells": [
  {
   "cell_type": "code",
   "execution_count": null,
   "metadata": {},
   "outputs": [],
   "source": [
    "# Import the Pandas library\n",
    "\n",
    "import openpyxl\n",
    "import io\n",
    "import tempfile\n",
    "import pandas as pd\n",
    "import numpy as np\n",
    "import sys\n",
    "\n",
    "sys.path.append('../')\n",
    "\n",
    "from models.tensorflow_model import TensorFlowModel\n",
    "\n",
    "model = TensorFlowModel()\n",
    "path = \"../.test_data/more_data.xlsx\"\n",
    "\n",
    "coded_df = model.process_excel(path)\n",
    "\n",
    "\n",
    "print(coded_df.info())\n",
    "coded_df"
   ]
  },
  {
   "cell_type": "code",
   "execution_count": null,
   "metadata": {},
   "outputs": [],
   "source": [
    "from sklearn.linear_model import LinearRegression\n",
    "from sklearn.model_selection import train_test_split\n",
    "\n",
    "\n",
    "\n",
    "# Splitting the dataset into the Training set and Test set\n",
    "X, y= model.train_test_split(coded_df)\n",
    "\n",
    "X.shape , y.shape\n"
   ]
  },
  {
   "cell_type": "code",
   "execution_count": null,
   "metadata": {},
   "outputs": [],
   "source": [
    "\n",
    "model.fit(X, y)\n",
    "\n",
    "print(f'mse : {model.mse}' )\n",
    "print(f'accuracy: {model.accuracy}' )\n",
    "print(f'preferred_accuracy: {model.preferred_accuracy}' )\n",
    "\n",
    "print(f'predictions_count: {model.predictions_count}   in {model.y_test_count}' )\n",
    "\n",
    "\n",
    "prob = coded_df[coded_df['color_binary'] == 1].shape[0] / coded_df.shape[0]\n",
    "\n",
    "print(f'real prob: {prob}' )\n"
   ]
  },
  {
   "cell_type": "code",
   "execution_count": null,
   "metadata": {},
   "outputs": [],
   "source": [
    "\n",
    "df =model.predict_last()\n",
    "df\n"
   ]
  },
  {
   "cell_type": "code",
   "execution_count": null,
   "metadata": {},
   "outputs": [],
   "source": [
    "print(df[(df['next_color_code'] != 0)  ].shape)\n",
    "df[(df['next_color_code'] != 0) ]\n",
    "df.sort_values(by='next_color_code', ascending=False)[:20]"
   ]
  }
 ],
 "metadata": {
  "kernelspec": {
   "display_name": "venv",
   "language": "python",
   "name": "python3"
  },
  "language_info": {
   "codemirror_mode": {
    "name": "ipython",
    "version": 3
   },
   "file_extension": ".py",
   "mimetype": "text/x-python",
   "name": "python",
   "nbconvert_exporter": "python",
   "pygments_lexer": "ipython3",
   "version": "3.11.8"
  }
 },
 "nbformat": 4,
 "nbformat_minor": 2
}
